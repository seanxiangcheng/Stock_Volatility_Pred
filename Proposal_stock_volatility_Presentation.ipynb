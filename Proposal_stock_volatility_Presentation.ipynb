{
 "cells": [
  {
   "cell_type": "markdown",
   "metadata": {},
   "source": [
    "# Web Application of Stock Volatility Prediction"
   ]
  },
  {
   "cell_type": "markdown",
   "metadata": {},
   "source": [
    "## 1. Introduction\n",
    "**The App**:  \n",
    "\n",
    "* **Input**: Stock Name  \n",
    "* **Output**: Predictions of Tomorrow's high and low\n",
    "    \n",
    "\n",
    "**Why doing this?**\n",
    "\n",
    "* May help *making money*, especially for __day-traders__ and __automated trading companies__"
   ]
  },
  {
   "cell_type": "markdown",
   "metadata": {},
   "source": [
    "## Proposal steps\n",
    "\n",
    "* *Define The Problem*  \n",
    "* *Data Preprocessing*  \n",
    "* *Modeling and Model Validation*  \n",
    "* *Deployment*  "
   ]
  },
  {
   "cell_type": "markdown",
   "metadata": {},
   "source": [
    "## 2. Define the Problem\n",
    "\n",
    "**What to predict?**\n",
    "\n",
    "* **Numeric Price**: too hard due to ~1% daily changes\n",
    "\n",
    "* **Classification**:  whether tomorrow's *high* is higher; whether tomorrow's *low* is *lower*"
   ]
  },
  {
   "cell_type": "markdown",
   "metadata": {},
   "source": [
    "# 3. Data Preprocessing\n",
    "\n",
    "* **Data**: Historical Price data from Quandl API\n",
    "\n"
   ]
  },
  {
   "cell_type": "code",
   "execution_count": 14,
   "metadata": {
    "collapsed": false
   },
   "outputs": [
    {
     "data": {
      "text/html": [
       "<div>\n",
       "<table border=\"1\" class=\"dataframe\">\n",
       "  <thead>\n",
       "    <tr style=\"text-align: right;\">\n",
       "      <th></th>\n",
       "      <th>Open</th>\n",
       "      <th>High</th>\n",
       "      <th>Low</th>\n",
       "      <th>Close</th>\n",
       "      <th>Volume</th>\n",
       "      <th>Ex-Dividend</th>\n",
       "      <th>Split Ratio</th>\n",
       "      <th>Adj. Open</th>\n",
       "      <th>Adj. High</th>\n",
       "      <th>Adj. Low</th>\n",
       "      <th>Adj. Close</th>\n",
       "      <th>Adj. Volume</th>\n",
       "    </tr>\n",
       "    <tr>\n",
       "      <th>Date</th>\n",
       "      <th></th>\n",
       "      <th></th>\n",
       "      <th></th>\n",
       "      <th></th>\n",
       "      <th></th>\n",
       "      <th></th>\n",
       "      <th></th>\n",
       "      <th></th>\n",
       "      <th></th>\n",
       "      <th></th>\n",
       "      <th></th>\n",
       "      <th></th>\n",
       "    </tr>\n",
       "  </thead>\n",
       "  <tbody>\n",
       "    <tr>\n",
       "      <th>2015-11-05</th>\n",
       "      <td>729.47</td>\n",
       "      <td>739.48</td>\n",
       "      <td>729.4700</td>\n",
       "      <td>731.25</td>\n",
       "      <td>1856444</td>\n",
       "      <td>0</td>\n",
       "      <td>1</td>\n",
       "      <td>729.47</td>\n",
       "      <td>739.48</td>\n",
       "      <td>729.4700</td>\n",
       "      <td>731.25</td>\n",
       "      <td>1856444</td>\n",
       "    </tr>\n",
       "    <tr>\n",
       "      <th>2015-11-06</th>\n",
       "      <td>731.50</td>\n",
       "      <td>735.41</td>\n",
       "      <td>727.0100</td>\n",
       "      <td>733.76</td>\n",
       "      <td>1503352</td>\n",
       "      <td>0</td>\n",
       "      <td>1</td>\n",
       "      <td>731.50</td>\n",
       "      <td>735.41</td>\n",
       "      <td>727.0100</td>\n",
       "      <td>733.76</td>\n",
       "      <td>1503352</td>\n",
       "    </tr>\n",
       "    <tr>\n",
       "      <th>2015-11-09</th>\n",
       "      <td>730.20</td>\n",
       "      <td>734.71</td>\n",
       "      <td>719.4300</td>\n",
       "      <td>724.89</td>\n",
       "      <td>2051647</td>\n",
       "      <td>0</td>\n",
       "      <td>1</td>\n",
       "      <td>730.20</td>\n",
       "      <td>734.71</td>\n",
       "      <td>719.4300</td>\n",
       "      <td>724.89</td>\n",
       "      <td>2051647</td>\n",
       "    </tr>\n",
       "    <tr>\n",
       "      <th>2015-11-10</th>\n",
       "      <td>724.40</td>\n",
       "      <td>730.59</td>\n",
       "      <td>718.5001</td>\n",
       "      <td>728.32</td>\n",
       "      <td>1601765</td>\n",
       "      <td>0</td>\n",
       "      <td>1</td>\n",
       "      <td>724.40</td>\n",
       "      <td>730.59</td>\n",
       "      <td>718.5001</td>\n",
       "      <td>728.32</td>\n",
       "      <td>1601765</td>\n",
       "    </tr>\n",
       "  </tbody>\n",
       "</table>\n",
       "</div>"
      ],
      "text/plain": [
       "              Open    High       Low   Close   Volume  Ex-Dividend  \\\n",
       "Date                                                                 \n",
       "2015-11-05  729.47  739.48  729.4700  731.25  1856444            0   \n",
       "2015-11-06  731.50  735.41  727.0100  733.76  1503352            0   \n",
       "2015-11-09  730.20  734.71  719.4300  724.89  2051647            0   \n",
       "2015-11-10  724.40  730.59  718.5001  728.32  1601765            0   \n",
       "\n",
       "            Split Ratio  Adj. Open  Adj. High  Adj. Low  Adj. Close  \\\n",
       "Date                                                                  \n",
       "2015-11-05            1     729.47     739.48  729.4700      731.25   \n",
       "2015-11-06            1     731.50     735.41  727.0100      733.76   \n",
       "2015-11-09            1     730.20     734.71  719.4300      724.89   \n",
       "2015-11-10            1     724.40     730.59  718.5001      728.32   \n",
       "\n",
       "            Adj. Volume  \n",
       "Date                     \n",
       "2015-11-05      1856444  \n",
       "2015-11-06      1503352  \n",
       "2015-11-09      2051647  \n",
       "2015-11-10      1601765  "
      ]
     },
     "execution_count": 14,
     "metadata": {},
     "output_type": "execute_result"
    }
   ],
   "source": [
    "Quandl.get(\"WIKI/GOOG\", authtoken=apikey,rows=4)"
   ]
  },
  {
   "cell_type": "markdown",
   "metadata": {},
   "source": [
    "* **Problem**: high correlation and autocorrelation\n",
    "\n",
    "```\n",
    "###################  GOOG  ##################\n",
    "Correlation Matrix of original data:\n",
    "         open     high     low      close    volume   \n",
    "open       1      0.9999   0.9998   0.9997   -0.4965  \n",
    "high     0.9999     1      0.9998   0.9999   -0.4938  \n",
    "low      0.9998   0.9998     1      0.9999   -0.5016  \n",
    "close    0.9997   0.9999   0.9999     1      -0.4977  \n",
    "volume   -0.4965  -0.4938  -0.5016  -0.4977    1      \n",
    "```\n",
    "<img src='p1.png'>\n",
    "\n",
    "* **Need Preprocessing**:\n",
    "\n",
    "one way: take the difference of 2 consecutive days*\n",
    "\n",
    "```\n",
    "###################  GOOG  ##################\n",
    "Correlation Matrix of original data:\n",
    "         open     high     low      close    volume   \n",
    "open       1      0.7521   0.7108   0.3487   -0.0503  \n",
    "high     0.7521     1      0.7299   0.7098   0.0588   \n",
    "low      0.7108   0.7299     1      0.7073   -0.2304  \n",
    "close    0.3487   0.7098   0.7073     1      -0.0814  \n",
    "volume   -0.0503  0.0588   -0.2304  -0.0814    1      \n",
    "```\n",
    "<img src='p2.png'>\n",
    "\n",
    "* Use data of the previous n days as the features: n=4\n",
    "\n",
    "* Now we get ***X*** and ***y***\n"
   ]
  },
  {
   "cell_type": "markdown",
   "metadata": {},
   "source": [
    "# 4. Modeling and Model Validation\n",
    "\n",
    "* A model not only working well but also *interpretable*\n",
    "\n",
    "* Maybe *Decision Tree methods*\n",
    "\n",
    "* Tried different algorithms\n",
    "\n",
    "* Best one: *Random Forest* (accuracy rate: 65~75%)"
   ]
  },
  {
   "cell_type": "markdown",
   "metadata": {},
   "source": [
    "# 5. Future work\n",
    "\n",
    "* **More features** from Google Trend, Twitter, and Global Economy data\n",
    "* **Ensemble method**\n",
    "\n",
    "* **Deployment**: *web application*; integrate with *automated trading system*"
   ]
  },
  {
   "cell_type": "code",
   "execution_count": 5,
   "metadata": {
    "collapsed": false
   },
   "outputs": [
    {
     "name": "stdout",
     "output_type": "stream",
     "text": [
      "Populating the interactive namespace from numpy and matplotlib\n"
     ]
    }
   ],
   "source": [
    "### Stock Volatility Prediction using Histroical Data ####\n",
    "### Predict whether tomorrow's high is higher or lower than today's high\n",
    "### using historical stock price\n",
    "import numpy as np\n",
    "import pandas as pd\n",
    "import csv\n",
    "import inds_functions as ids\n",
    "import MySQLdb as mdb\n",
    "import datetime\n",
    "import matplotlib.pyplot as plt\n",
    "from sklearn.ensemble import RandomForestClassifier\n",
    "import Quandl\n",
    "import datetime as dt\n",
    "\n",
    "%pylab inline\n",
    "\n",
    "apikey = 'hjKhd2KM3o6FGDCsdXxK'\n",
    "line_w = 2.5\n",
    "fsize = 16\n",
    "styles_line = ['-b','-r','-g','-c','-k', '--b','--r','--g','--c','--k']"
   ]
  },
  {
   "cell_type": "code",
   "execution_count": 8,
   "metadata": {
    "collapsed": false
   },
   "outputs": [],
   "source": [
    "start_date = \"2005-1-1\"\n",
    "end_date = \"2015-10-31\"\n",
    "stk_name = \"WIKI/GOOGL\"\n",
    "index_name = \"NASDAQOMX/COMP\""
   ]
  },
  {
   "cell_type": "code",
   "execution_count": 15,
   "metadata": {
    "collapsed": false
   },
   "outputs": [
    {
     "name": "stdout",
     "output_type": "stream",
     "text": [
      "total training data size: (2713, 17)\n",
      "Out of Bag Performance: 0.65\n",
      "\n",
      "which means the expected accuracy for a new dataset\n",
      " Features                Importances\n",
      " 7  : 1st Day n_low      0.08\n",
      " 0  : 1st Day open       0.08\n",
      " 9  : 2nd Day high       0.04\n",
      " 13 : 2nd Day n_index    0.04\n",
      " 2  : 1st Day low        0.04\n",
      " 8  : 2nd Day open       0.03\n",
      " 1  : 1st Day high       0.03\n",
      " 14 : 2nd Day n_high     0.03\n",
      " 11 : 2nd Day close      0.03\n",
      " 16 : 2nd Day open       0.03\n",
      " 4  : 1st Day volume     0.03\n",
      " 30 : 2nd Day n_high     0.03\n",
      " 12 : 2nd Day volume     0.03\n",
      " 31 : 2nd Day n_low      0.03\n",
      " 33 : 2nd Day high       0.03\n",
      " 15 : 2nd Day n_low      0.03\n",
      " 21 : 2nd Day n_index    0.03\n",
      " 28 : 2nd Day volume     0.03\n",
      " 32 : 2nd Day open       0.03\n",
      " 3  : 1st Day close      0.03\n",
      " 24 : 2nd Day open       0.03\n",
      " 18 : 2nd Day low        0.03\n",
      " 17 : 2nd Day high       0.03\n",
      " 29 : 2nd Day n_index    0.03\n",
      " 25 : 2nd Day high       0.03\n",
      " 10 : 2nd Day low        0.03\n",
      " 19 : 2nd Day close      0.03\n",
      " 20 : 2nd Day volume     0.03\n",
      " 26 : 2nd Day low        0.03\n",
      " 27 : 2nd Day close      0.03\n",
      " 5  : 1st Day n_index    0.00\n",
      " 6  : 1st Day n_high     0.00\n",
      " 22 : 2nd Day n_high     0.00\n",
      " 23 : 2nd Day n_low      0.00\n"
     ]
    },
    {
     "data": {
      "text/plain": [
       "<matplotlib.text.Text at 0x7f74e0fb1650>"
      ]
     },
     "execution_count": 15,
     "metadata": {},
     "output_type": "execute_result"
    },
    {
     "data": {
      "image/png": "[encoded data removed]",
      "text/plain": [
       "<matplotlib.figure.Figure at 0x7f74f03fd810>"
      ]
     },
     "metadata": {},
     "output_type": "display_data"
    }
   ],
   "source": [
    "stk_nm = \"WIKI/GOOGL\"\n",
    "stk = Quandl.get(stk_nm, authtoken=apikey,trim_start=start_date, trim_end=end_date)\n",
    "nsd = Quandl.get(index_name, authtoken=apikey,trim_start=start_date, trim_end=end_date)\n",
    "data = pd.concat([stk, nsd], axis=1, join='inner')\n",
    "data = data.sort_index(ascending=True)\n",
    "data = np.array(data)\n",
    "print \"total training data size:\", data.shape\n",
    "'''\n",
    "print list(mydata.columns)\n",
    "start = mydata.index.searchsorted(dt.datetime(2013, 1, 2))\n",
    "end = mydata.index.searchsorted(dt.datetime(2013, 1, 4))\n",
    "print [start, end]\n",
    "mydata.ix[start:end]\n",
    "#mydata\n",
    "'''\n",
    "#data1 = np.array(stk.iloc[:, -5:])\n",
    "#data2 = np.array(nsd.iloc[:,:3])\n",
    "#data = np.concatenate((data1, data2), axis=1)\n",
    "header = ['open','high','low', 'close', 'volume', 'n_index', 'n_high', 'n_low']\n",
    "\n",
    "### Data Processing ###\n",
    "data_diff = data[:-1,:] - data[1:,:]\n",
    "### Predition Setup ###\n",
    "# target\n",
    "lag = 3\n",
    "y = np.array(data_diff[:-lag,1]>0, dtype=int)\n",
    "X = ids.GetX(data_diff, lag=lag)\n",
    "X = X[:y.shape[0],:]\n",
    "#X = ids.Data_Rescale(X)\n",
    "\n",
    "### Random Forest ###\n",
    "clf = RandomForestClassifier(n_estimators=400, criterion ='gini' , \\\n",
    "      max_depth=None, oob_score=True)\n",
    "clf.fit(X, y)\n",
    "oob = clf.oob_score_\n",
    "feature_importance = clf.feature_importances_\n",
    "index = np.argsort(feature_importance)[::-1]\n",
    "feature_importance = np.sort(feature_importance)[::-1]\n",
    "\n",
    "### Results output ###\n",
    "print \"Out of Bag Performance: %.2f\\n\" % oob\n",
    "print \"which means the expected accuracy for a new dataset\"\n",
    "#print \"Feature Importances: \\n\", clf.feature_importances_\n",
    "\n",
    "print \" Features                Importances\"\n",
    "for i in range(len(feature_importance)):\n",
    "    if index[i] < len(header):\n",
    "        feature = \"1st Day \" + header[index[i]]\n",
    "    else:\n",
    "        feature = \"2nd Day \" + header[index[i]%len(header)]\n",
    "    print \" %-2d : %-16s   %.2f\" % (index[i], feature, clf.feature_importances_[index[i]])    \n",
    "plt.figure(3, figsize = (12, 6))\n",
    "plt.bar(np.arange(len(index)), feature_importance)\n",
    "plt.xticks(np.arange(len(index))+0.5, index)\n",
    "plt.xlim([0, len(index)])\n",
    "plt.xlabel(\"Feature Importance\", fontsize = fsize)\n",
    "plt.ylabel(\"Feature label\", fontsize = fsize)"
   ]
  },
  {
   "cell_type": "code",
   "execution_count": 53,
   "metadata": {
    "collapsed": false
   },
   "outputs": [
    {
     "name": "stdout",
     "output_type": "stream",
     "text": [
      "###################  GOOG  ##################\n",
      "Correlation Matrix of original data:\n",
      "         open     high     low      close    volume   \n",
      "open       1      0.9999   0.9998   0.9997   -0.4965  \n",
      "high     0.9999     1      0.9998   0.9999   -0.4938  \n",
      "low      0.9998   0.9998     1      0.9999   -0.5016  \n",
      "close    0.9997   0.9999   0.9999     1      -0.4977  \n",
      "volume   -0.4965  -0.4938  -0.5016  -0.4977    1      \n",
      "\n",
      "\n"
     ]
    },
    {
     "data": {
      "image/png": "[encoded data removed]",
      "text/plain": [
       "<matplotlib.figure.Figure at 0x7f82ef677e10>"
      ]
     },
     "metadata": {},
     "output_type": "display_data"
    }
   ],
   "source": [
    "### Preprocessing data ###\n",
    "data = np.asarray(data, dtype=float)\n",
    "np.set_printoptions(precision=2)\n",
    "\n",
    "# Auro-correlation \n",
    "xlims = [1, 20-1]\n",
    "ylims = [-0.25, 1]\n",
    "\n",
    "CF95 = np.ones((data.shape[0], 2))*1.96/np.sqrt(data.shape[0])\n",
    "CF95[:,1] = -CF95[:,1]\n",
    "plt.figure(1, figsize = (12, 6))\n",
    "for i in range(data.shape[1]):\n",
    "    plt.plot(ids.Autocor(data[:,i], 20),styles_line[i%len(styles_line)], linewidth = line_w, label = header[i])\n",
    "plt.plot(CF95[:,0], '--k', linewidth = 1.0)\n",
    "plt.plot(CF95[:,1], '--k', linewidth = 1.0)\n",
    "plt.ylabel(\"Autocorrelation\", fontsize = fsize)\n",
    "plt.xlabel(\"Lags\", fontsize = fsize)\n",
    "plt.legend(loc = \"center\", ncol=2)\n",
    "plt.xlim(xlims)\n",
    "plt.ylim(ylims)\n",
    "#plt.show()\n",
    "\n",
    "# Cross correlation\n",
    "Cor_Mat= np.corrcoef(data, rowvar = 0)\n",
    "print \"###################  GOOG  ##################\"\n",
    "print \"Correlation Matrix of original data:\\n\",\n",
    "ids.Print_Cor_Mat(Cor_Mat, header)"
   ]
  },
  {
   "cell_type": "code",
   "execution_count": 61,
   "metadata": {
    "collapsed": false
   },
   "outputs": [
    {
     "name": "stdout",
     "output_type": "stream",
     "text": [
      "###################  GOOG  ##################\n",
      "Correlation Matrix of original data:\n",
      "         open     high     low      close    volume   \n",
      "open       1      0.7521   0.7108   0.3487   -0.0503  \n",
      "high     0.7521     1      0.7299   0.7098   0.0588   \n",
      "low      0.7108   0.7299     1      0.7073   -0.2304  \n",
      "close    0.3487   0.7098   0.7073     1      -0.0814  \n",
      "volume   -0.0503  0.0588   -0.2304  -0.0814    1      \n",
      "\n",
      "\n"
     ]
    },
    {
     "data": {
      "image/png": "[encoded data removed]",
      "text/plain": [
       "<matplotlib.figure.Figure at 0x7f82ef30ad10>"
      ]
     },
     "metadata": {},
     "output_type": "display_data"
    }
   ],
   "source": [
    "### Data Processing ###\n",
    "data_diff = data[:-1,:] - data[1:,:]\n",
    "\n",
    "# Auro-correlation \n",
    "xlims = [1, 20-1]\n",
    "ylims = [-0.25, 1]\n",
    "CF95 = np.ones((data_diff.shape[0], 2))*1.96/np.sqrt(data_diff.shape[0])\n",
    "CF95[:,1] = -CF95[:,1]\n",
    "plt.figure(2, figsize = (12, 6))\n",
    "for i in range(data_diff.shape[1]):\n",
    "    plt.plot(ids.Autocor(data_diff[:,i], 20),styles_line[i%len(styles_line)], linewidth = line_w, label = header[i])\n",
    "plt.plot(CF95[:,0], '--k', linewidth = 1.0)\n",
    "plt.plot(CF95[:,1], '--k', linewidth = 1.0)\n",
    "plt.ylabel(\"Autocorrelation of pre-processed data\", fontsize = fsize)\n",
    "plt.xlabel(\"Lags\", fontsize = fsize)\n",
    "plt.legend(loc = \"upper right\", ncol=2)\n",
    "plt.xlim(xlims)\n",
    "plt.ylim(ylims)\n",
    "#plt.show()\n",
    "\n",
    "# Cross correlation\n",
    "Cor_Mat= np.corrcoef(data_diff, rowvar = 0)\n",
    "print \"###################  GOOG  ##################\"\n",
    "print \"Correlation Matrix of original data:\\n\",\n",
    "ids.Print_Cor_Mat(Cor_Mat, header)"
   ]
  },
  {
   "cell_type": "code",
   "execution_count": 73,
   "metadata": {
    "collapsed": false
   },
   "outputs": [
    {
     "name": "stdout",
     "output_type": "stream",
     "text": [
      "Out of Bag Performance: 0.69\n",
      "\n",
      "which means the expected accuracy for a new dataset\n",
      " Features                Importances\n",
      " 3  : 1st Day close      0.22\n",
      " 2  : 1st Day low        0.11\n",
      " 1  : 1st Day high       0.10\n",
      " 0  : 1st Day open       0.09\n",
      " 4  : 1st Day volume     0.08\n",
      " 8  : 2nd Day close      0.08\n",
      " 9  : 2nd Day volume     0.08\n",
      " 7  : 2nd Day low        0.08\n",
      " 6  : 2nd Day high       0.08\n",
      " 5  : 2nd Day open       0.08\n"
     ]
    },
    {
     "data": {
      "text/plain": [
       "<matplotlib.text.Text at 0x7f82ea1b1050>"
      ]
     },
     "execution_count": 73,
     "metadata": {},
     "output_type": "execute_result"
    },
    {
     "data": {
      "image/png": "[encoded data removed]",
      "text/plain": [
       "<matplotlib.figure.Figure at 0x7f82e9f6d6d0>"
      ]
     },
     "metadata": {},
     "output_type": "display_data"
    }
   ],
   "source": [
    "data = data[::-1, :] \n",
    "### Data Processing ###\n",
    "data_diff = data[:-1,:] - data[1:,:]\n",
    "### Predition Setup ###\n",
    "# target\n",
    "lag = 3\n",
    "y = np.array(data_diff[:-lag,1]>0, dtype=int)\n",
    "X = ids.GetX(data_diff, lag=lag)\n",
    "X = X[:y.shape[0],:]\n",
    "#X = ids.Data_Rescale(X)\n",
    "\n",
    "### Random Forest ###\n",
    "clf = RandomForestClassifier(n_estimators=400, criterion ='gini' , \\\n",
    "      max_depth=None, oob_score=True)\n",
    "clf.fit(X, y)\n",
    "oob = clf.oob_score_\n",
    "feature_importance = clf.feature_importances_\n",
    "index = np.argsort(feature_importance)[::-1]\n",
    "feature_importance = np.sort(feature_importance)[::-1]\n",
    "\n",
    "### Results output ###\n",
    "print \"Out of Bag Performance: %.2f\\n\" % oob\n",
    "print \"which means the expected accuracy for a new dataset\"\n",
    "#print \"Feature Importances: \\n\", clf.feature_importances_\n",
    "\n",
    "print \" Features                Importances\"\n",
    "for i in range(len(feature_importance)):\n",
    "    if index[i] < len(header):\n",
    "        feature = \"1st Day \" + header[index[i]]\n",
    "    else:\n",
    "        feature = \"2nd Day \" + header[index[i]%len(header)]\n",
    "    print \" %-2d : %-16s   %.2f\" % (index[i], feature, clf.feature_importances_[index[i]])    \n",
    "plt.figure(3, figsize = (12, 6))\n",
    "plt.bar(np.arange(len(index)), feature_importance)\n",
    "plt.xticks(np.arange(len(index))+0.5, index)\n",
    "plt.xlim([0, len(index)])\n",
    "plt.xlabel(\"Feature Importance\", fontsize = fsize)\n",
    "plt.ylabel(\"Feature label\", fontsize = fsize)"
   ]
  },
  {
   "cell_type": "code",
   "execution_count": null,
   "metadata": {
    "collapsed": true
   },
   "outputs": [],
   "source": []
  }
 ],
 "metadata": {
  "kernelspec": {
   "display_name": "Python 2",
   "language": "python",
   "name": "python2"
  },
  "language_info": {
   "codemirror_mode": {
    "name": "ipython",
    "version": 2
   },
   "file_extension": ".py",
   "mimetype": "text/x-python",
   "name": "python",
   "nbconvert_exporter": "python",
   "pygments_lexer": "ipython2",
   "version": "2.7.10"
  }
 },
 "nbformat": 4,
 "nbformat_minor": 0
}
